{
 "cells": [
  {
   "cell_type": "code",
   "execution_count": 9,
   "metadata": {},
   "outputs": [],
   "source": [
    "from dataset import Dataset, DataObject\n",
    "\n",
    "dataset = Dataset('Iris.csv')"
   ]
  },
  {
   "cell_type": "code",
   "execution_count": 11,
   "metadata": {},
   "outputs": [
    {
     "data": {
      "text/plain": [
       "DataObject(Id: 1, SepalLengthCm: 5.1, SepalWidthCm: 3.5, PetalLengthCm: 1.4, PetalWidthCm: 0.2, Species: Iris-setosa)"
      ]
     },
     "execution_count": 11,
     "metadata": {},
     "output_type": "execute_result"
    }
   ],
   "source": [
    "dataset.data_objects[0]"
   ]
  },
  {
   "cell_type": "code",
   "execution_count": 6,
   "metadata": {},
   "outputs": [
    {
     "ename": "AttributeError",
     "evalue": "'DataObject' object has no attribute 'network_input'",
     "output_type": "error",
     "traceback": [
      "\u001b[1;31m---------------------------------------------------------------------------\u001b[0m",
      "\u001b[1;31mAttributeError\u001b[0m                            Traceback (most recent call last)",
      "Cell \u001b[1;32mIn[6], line 6\u001b[0m\n\u001b[0;32m      3\u001b[0m alpha \u001b[38;5;241m=\u001b[39m \u001b[38;5;241m1e-5\u001b[39m\n\u001b[0;32m      4\u001b[0m network \u001b[38;5;241m=\u001b[39m Network(\u001b[38;5;241m4\u001b[39m, \u001b[38;5;241m100\u001b[39m)\n\u001b[1;32m----> 6\u001b[0m train_dataset \u001b[38;5;241m=\u001b[39m [(\u001b[43mo\u001b[49m\u001b[38;5;241;43m.\u001b[39;49m\u001b[43mnetwork_input\u001b[49m, o\u001b[38;5;241m.\u001b[39mnetwork_output) \u001b[38;5;28;01mfor\u001b[39;00m o \u001b[38;5;129;01min\u001b[39;00m dataset\u001b[38;5;241m.\u001b[39mdata_objects]\n\u001b[0;32m      8\u001b[0m network\u001b[38;5;241m.\u001b[39mtrain(train_dataset, alpha)\n",
      "\u001b[1;31mAttributeError\u001b[0m: 'DataObject' object has no attribute 'network_input'"
     ]
    }
   ],
   "source": [
    "from neural import Network\n",
    "\n",
    "alpha = 1e-5\n",
    "network = Network(4, 100)\n",
    "\n",
    "train_dataset = [(o.network_input, o.network_output) for o in dataset.data_objects]\n",
    "\n",
    "network.train(train_dataset, alpha)"
   ]
  }
 ],
 "metadata": {
  "kernelspec": {
   "display_name": "Python 3",
   "language": "python",
   "name": "python3"
  },
  "language_info": {
   "codemirror_mode": {
    "name": "ipython",
    "version": 3
   },
   "file_extension": ".py",
   "mimetype": "text/x-python",
   "name": "python",
   "nbconvert_exporter": "python",
   "pygments_lexer": "ipython3",
   "version": "3.12.1"
  }
 },
 "nbformat": 4,
 "nbformat_minor": 2
}
